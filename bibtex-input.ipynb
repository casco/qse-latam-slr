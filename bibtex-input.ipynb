{
 "cells": [
  {
   "cell_type": "code",
   "execution_count": 1,
   "id": "67659dac",
   "metadata": {
    "ExecuteTime": {
     "end_time": "2023-11-17T22:00:04.271675800Z",
     "start_time": "2023-11-17T22:00:03.836921200Z"
    }
   },
   "outputs": [],
   "source": [
    "import bibtexparser\n",
    "from bibtex_utilities import df_from_library"
   ]
  },
  {
   "cell_type": "code",
   "execution_count": 2,
   "id": "9530f46d",
   "metadata": {
    "ExecuteTime": {
     "end_time": "2023-11-17T22:00:05.137375Z",
     "start_time": "2023-11-17T22:00:05.118230200Z"
    }
   },
   "outputs": [],
   "source": [
    "library = bibtexparser.parse_file(\"quantum+software+engineering+mexico-ieee.bib\")"
   ]
  },
  {
   "cell_type": "code",
   "execution_count": 3,
   "outputs": [],
   "source": [
    "library_as_df = df_from_library(library)"
   ],
   "metadata": {
    "collapsed": false,
    "ExecuteTime": {
     "end_time": "2023-11-17T22:00:06.022469200Z",
     "start_time": "2023-11-17T22:00:06.005294600Z"
    }
   },
   "id": "c98de1a5"
  },
  {
   "cell_type": "code",
   "execution_count": null,
   "outputs": [],
   "source": [],
   "metadata": {
    "collapsed": false
   },
   "id": "eae2cfa82d14e616"
  }
 ],
 "metadata": {
  "kernelspec": {
   "display_name": "Python 3",
   "language": "python",
   "name": "python3"
  },
  "language_info": {
   "codemirror_mode": {
    "name": "ipython",
    "version": 3
   },
   "file_extension": ".py",
   "mimetype": "text/x-python",
   "name": "python",
   "nbconvert_exporter": "python",
   "pygments_lexer": "ipython3",
   "version": "3.8.8"
  }
 },
 "nbformat": 4,
 "nbformat_minor": 5
}
