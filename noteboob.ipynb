{
 "cells": [
  {
   "cell_type": "code",
   "execution_count": 1,
   "id": "785ab817",
   "metadata": {
    "ExecuteTime": {
     "end_time": "2023-11-17T17:45:15.539830500Z",
     "start_time": "2023-11-17T17:45:12.967299200Z"
    }
   },
   "outputs": [],
   "source": [
    "import pandas as pd"
   ]
  },
  {
   "cell_type": "code",
   "execution_count": 2,
   "id": "1eb83745",
   "metadata": {
    "ExecuteTime": {
     "end_time": "2023-11-17T17:45:22.723225400Z",
     "start_time": "2023-11-17T17:45:22.657846600Z"
    }
   },
   "outputs": [],
   "source": [
    "ieee_1 = pd.read_csv('quantum+software+engineering+mexico-ieee.csv')"
   ]
  },
  {
   "cell_type": "code",
   "execution_count": 3,
   "id": "81d7517f",
   "metadata": {
    "ExecuteTime": {
     "end_time": "2023-11-17T17:45:24.121664800Z",
     "start_time": "2023-11-17T17:45:24.066612700Z"
    }
   },
   "outputs": [
    {
     "data": {
      "text/plain": "                                      Document Title  \\\n0  GPIS: Tool to assess internal processes and pr...   \n1  A proposal of metrics for software development...   \n2                         Data flow visual languages   \n\n                                             Authors  \\\n0  J. Mejía; E. Bonilla; I. Faustino; E. Jhordany...   \n1  J. Mejía; E. Bonilla; I. Faustino; E. Jhordany...   \n2                                J. Rasure; M. Young   \n\n                                 Author Affiliations  \\\n0  Centro de Investigación en Matemáticas, Parque...   \n1  Centro de Investigación en Matemáticas, Parque...   \n2  Department of Electrical and Computer Engineer...   \n\n                                   Publication Title Date Added To Xplore  \\\n0  2020 9th International Conference On Software ...          31 Mar 2021   \n1  2021 10th International Conference On Software...          23 Dec 2021   \n2                                    IEEE Potentials           6 Aug 2002   \n\n   Publication Year  Volume  Issue  Start Page  End Page  ... Mesh_Terms  \\\n0              2020     NaN    NaN          44        51  ...        NaN   \n1              2021     NaN    NaN          58        65  ...        NaN   \n2              1992    11.0    2.0          30        33  ...        NaN   \n\n  Article Citation Count Patent Citation Count Reference Count  License  \\\n0                    NaN                   NaN               0     IEEE   \n1                    NaN                   NaN               0     IEEE   \n2                    6.0                   1.0               6     IEEE   \n\n   Online Date Issue Date Meeting Date Publisher Document Identifier  \n0  31 Mar 2021        NaN          NaN      IEEE    IEEE Conferences  \n1  23 Dec 2021        NaN          NaN      IEEE    IEEE Conferences  \n2   6 Aug 2002        NaN          NaN      IEEE      IEEE Magazines  \n\n[3 rows x 30 columns]",
      "text/html": "<div>\n<style scoped>\n    .dataframe tbody tr th:only-of-type {\n        vertical-align: middle;\n    }\n\n    .dataframe tbody tr th {\n        vertical-align: top;\n    }\n\n    .dataframe thead th {\n        text-align: right;\n    }\n</style>\n<table border=\"1\" class=\"dataframe\">\n  <thead>\n    <tr style=\"text-align: right;\">\n      <th></th>\n      <th>Document Title</th>\n      <th>Authors</th>\n      <th>Author Affiliations</th>\n      <th>Publication Title</th>\n      <th>Date Added To Xplore</th>\n      <th>Publication Year</th>\n      <th>Volume</th>\n      <th>Issue</th>\n      <th>Start Page</th>\n      <th>End Page</th>\n      <th>...</th>\n      <th>Mesh_Terms</th>\n      <th>Article Citation Count</th>\n      <th>Patent Citation Count</th>\n      <th>Reference Count</th>\n      <th>License</th>\n      <th>Online Date</th>\n      <th>Issue Date</th>\n      <th>Meeting Date</th>\n      <th>Publisher</th>\n      <th>Document Identifier</th>\n    </tr>\n  </thead>\n  <tbody>\n    <tr>\n      <th>0</th>\n      <td>GPIS: Tool to assess internal processes and pr...</td>\n      <td>J. Mejía; E. Bonilla; I. Faustino; E. Jhordany...</td>\n      <td>Centro de Investigación en Matemáticas, Parque...</td>\n      <td>2020 9th International Conference On Software ...</td>\n      <td>31 Mar 2021</td>\n      <td>2020</td>\n      <td>NaN</td>\n      <td>NaN</td>\n      <td>44</td>\n      <td>51</td>\n      <td>...</td>\n      <td>NaN</td>\n      <td>NaN</td>\n      <td>NaN</td>\n      <td>0</td>\n      <td>IEEE</td>\n      <td>31 Mar 2021</td>\n      <td>NaN</td>\n      <td>NaN</td>\n      <td>IEEE</td>\n      <td>IEEE Conferences</td>\n    </tr>\n    <tr>\n      <th>1</th>\n      <td>A proposal of metrics for software development...</td>\n      <td>J. Mejía; E. Bonilla; I. Faustino; E. Jhordany...</td>\n      <td>Centro de Investigación en Matemáticas, Parque...</td>\n      <td>2021 10th International Conference On Software...</td>\n      <td>23 Dec 2021</td>\n      <td>2021</td>\n      <td>NaN</td>\n      <td>NaN</td>\n      <td>58</td>\n      <td>65</td>\n      <td>...</td>\n      <td>NaN</td>\n      <td>NaN</td>\n      <td>NaN</td>\n      <td>0</td>\n      <td>IEEE</td>\n      <td>23 Dec 2021</td>\n      <td>NaN</td>\n      <td>NaN</td>\n      <td>IEEE</td>\n      <td>IEEE Conferences</td>\n    </tr>\n    <tr>\n      <th>2</th>\n      <td>Data flow visual languages</td>\n      <td>J. Rasure; M. Young</td>\n      <td>Department of Electrical and Computer Engineer...</td>\n      <td>IEEE Potentials</td>\n      <td>6 Aug 2002</td>\n      <td>1992</td>\n      <td>11.0</td>\n      <td>2.0</td>\n      <td>30</td>\n      <td>33</td>\n      <td>...</td>\n      <td>NaN</td>\n      <td>6.0</td>\n      <td>1.0</td>\n      <td>6</td>\n      <td>IEEE</td>\n      <td>6 Aug 2002</td>\n      <td>NaN</td>\n      <td>NaN</td>\n      <td>IEEE</td>\n      <td>IEEE Magazines</td>\n    </tr>\n  </tbody>\n</table>\n<p>3 rows × 30 columns</p>\n</div>"
     },
     "execution_count": 3,
     "metadata": {},
     "output_type": "execute_result"
    }
   ],
   "source": [
    "ieee_1"
   ]
  },
  {
   "cell_type": "code",
   "execution_count": 22,
   "id": "be87d43e",
   "metadata": {},
   "outputs": [],
   "source": [
    "\n",
    "ieee_1 = ieee_1.filter(items=['Document Title', 'Authors', 'Author Affiliations', 'Publication Title','Publication Year'],axis=1)\n",
    "ieee_1.rename(inplace=True, columns={'Document Title':'title', 'Authors':'authors', 'Author Affiliations':'afiliations', 'Publication Title':'publication','Publication Year':'year'})"
   ]
  },
  {
   "cell_type": "code",
   "execution_count": 23,
   "id": "325b2929",
   "metadata": {},
   "outputs": [
    {
     "data": {
      "text/html": [
       "<div>\n",
       "<style scoped>\n",
       "    .dataframe tbody tr th:only-of-type {\n",
       "        vertical-align: middle;\n",
       "    }\n",
       "\n",
       "    .dataframe tbody tr th {\n",
       "        vertical-align: top;\n",
       "    }\n",
       "\n",
       "    .dataframe thead th {\n",
       "        text-align: right;\n",
       "    }\n",
       "</style>\n",
       "<table border=\"1\" class=\"dataframe\">\n",
       "  <thead>\n",
       "    <tr style=\"text-align: right;\">\n",
       "      <th></th>\n",
       "      <th>title</th>\n",
       "      <th>authors</th>\n",
       "      <th>afiliations</th>\n",
       "      <th>publication</th>\n",
       "      <th>year</th>\n",
       "    </tr>\n",
       "  </thead>\n",
       "  <tbody>\n",
       "    <tr>\n",
       "      <th>0</th>\n",
       "      <td>GPIS: Tool to assess internal processes and pr...</td>\n",
       "      <td>J. Mejía; E. Bonilla; I. Faustino; E. Jhordany...</td>\n",
       "      <td>Centro de Investigación en Matemáticas, Parque...</td>\n",
       "      <td>2020 9th International Conference On Software ...</td>\n",
       "      <td>2020</td>\n",
       "    </tr>\n",
       "    <tr>\n",
       "      <th>1</th>\n",
       "      <td>A proposal of metrics for software development...</td>\n",
       "      <td>J. Mejía; E. Bonilla; I. Faustino; E. Jhordany...</td>\n",
       "      <td>Centro de Investigación en Matemáticas, Parque...</td>\n",
       "      <td>2021 10th International Conference On Software...</td>\n",
       "      <td>2021</td>\n",
       "    </tr>\n",
       "    <tr>\n",
       "      <th>2</th>\n",
       "      <td>Data flow visual languages</td>\n",
       "      <td>J. Rasure; M. Young</td>\n",
       "      <td>Department of Electrical and Computer Engineer...</td>\n",
       "      <td>IEEE Potentials</td>\n",
       "      <td>1992</td>\n",
       "    </tr>\n",
       "  </tbody>\n",
       "</table>\n",
       "</div>"
      ],
      "text/plain": [
       "                                               title  \\\n",
       "0  GPIS: Tool to assess internal processes and pr...   \n",
       "1  A proposal of metrics for software development...   \n",
       "2                         Data flow visual languages   \n",
       "\n",
       "                                             authors  \\\n",
       "0  J. Mejía; E. Bonilla; I. Faustino; E. Jhordany...   \n",
       "1  J. Mejía; E. Bonilla; I. Faustino; E. Jhordany...   \n",
       "2                                J. Rasure; M. Young   \n",
       "\n",
       "                                         afiliations  \\\n",
       "0  Centro de Investigación en Matemáticas, Parque...   \n",
       "1  Centro de Investigación en Matemáticas, Parque...   \n",
       "2  Department of Electrical and Computer Engineer...   \n",
       "\n",
       "                                         publication  year  \n",
       "0  2020 9th International Conference On Software ...  2020  \n",
       "1  2021 10th International Conference On Software...  2021  \n",
       "2                                    IEEE Potentials  1992  "
      ]
     },
     "execution_count": 23,
     "metadata": {},
     "output_type": "execute_result"
    }
   ],
   "source": [
    "\n",
    "ieee_1\n"
   ]
  },
  {
   "cell_type": "code",
   "execution_count": 24,
   "id": "453f066e",
   "metadata": {},
   "outputs": [],
   "source": [
    "scopus_1 = pd.read_csv('quantum+software+engineering+mexico-scopus.csv')\n"
   ]
  },
  {
   "cell_type": "code",
   "execution_count": 26,
   "id": "63c66707",
   "metadata": {},
   "outputs": [
    {
     "data": {
      "text/html": [
       "<div>\n",
       "<style scoped>\n",
       "    .dataframe tbody tr th:only-of-type {\n",
       "        vertical-align: middle;\n",
       "    }\n",
       "\n",
       "    .dataframe tbody tr th {\n",
       "        vertical-align: top;\n",
       "    }\n",
       "\n",
       "    .dataframe thead th {\n",
       "        text-align: right;\n",
       "    }\n",
       "</style>\n",
       "<table border=\"1\" class=\"dataframe\">\n",
       "  <thead>\n",
       "    <tr style=\"text-align: right;\">\n",
       "      <th></th>\n",
       "      <th>Authors</th>\n",
       "      <th>Author full names</th>\n",
       "      <th>Author(s) ID</th>\n",
       "      <th>Title</th>\n",
       "      <th>Year</th>\n",
       "      <th>Source title</th>\n",
       "      <th>Volume</th>\n",
       "      <th>Issue</th>\n",
       "      <th>Art. No.</th>\n",
       "      <th>Page start</th>\n",
       "      <th>...</th>\n",
       "      <th>Affiliations</th>\n",
       "      <th>Authors with affiliations</th>\n",
       "      <th>Abstract</th>\n",
       "      <th>Author Keywords</th>\n",
       "      <th>Index Keywords</th>\n",
       "      <th>Document Type</th>\n",
       "      <th>Publication Stage</th>\n",
       "      <th>Open Access</th>\n",
       "      <th>Source</th>\n",
       "      <th>EID</th>\n",
       "    </tr>\n",
       "  </thead>\n",
       "  <tbody>\n",
       "    <tr>\n",
       "      <th>0</th>\n",
       "      <td>Pérez-Delgado C.A.; Perez-Gonzalez H.G.</td>\n",
       "      <td>Pérez-Delgado, Carlos A. (14521565800); Perez-...</td>\n",
       "      <td>14521565800; 25925251900</td>\n",
       "      <td>Towards a Quantum Software Modeling Language</td>\n",
       "      <td>2020</td>\n",
       "      <td>Proceedings - 2020 IEEE/ACM 42nd International...</td>\n",
       "      <td>NaN</td>\n",
       "      <td>NaN</td>\n",
       "      <td>NaN</td>\n",
       "      <td>442</td>\n",
       "      <td>...</td>\n",
       "      <td>University of Kent, Canterbury, United Kingdom...</td>\n",
       "      <td>Pérez-Delgado C.A., University of Kent, Canter...</td>\n",
       "      <td>We set down the principles behind a modeling l...</td>\n",
       "      <td>quantum computing; software engineering; UML</td>\n",
       "      <td>Software engineering; Technical presentations;...</td>\n",
       "      <td>Conference paper</td>\n",
       "      <td>Final</td>\n",
       "      <td>All Open Access; Green Open Access</td>\n",
       "      <td>Scopus</td>\n",
       "      <td>2-s2.0-85093114589</td>\n",
       "    </tr>\n",
       "    <tr>\n",
       "      <th>1</th>\n",
       "      <td>Cervantes-Vazquez D.; Ochoa-Jimenez E.; Rodrig...</td>\n",
       "      <td>Cervantes-Vazquez, Daniel (57201742345); Ochoa...</td>\n",
       "      <td>57201742345; 57194188640; 6602522316</td>\n",
       "      <td>Parallel Strategies for SIDH: Toward Computing...</td>\n",
       "      <td>2022</td>\n",
       "      <td>IEEE Transactions on Computers</td>\n",
       "      <td>71.0</td>\n",
       "      <td>6.0</td>\n",
       "      <td>NaN</td>\n",
       "      <td>1249</td>\n",
       "      <td>...</td>\n",
       "      <td>Computer Science Department, Center for Resear...</td>\n",
       "      <td>Cervantes-Vazquez D., Computer Science Departm...</td>\n",
       "      <td>We present novel strategies and concrete algor...</td>\n",
       "      <td>Isogenies; Isogeny-based cryptography; paralle...</td>\n",
       "      <td>Software engineering; Acceleration factors; Di...</td>\n",
       "      <td>Article</td>\n",
       "      <td>Final</td>\n",
       "      <td>NaN</td>\n",
       "      <td>Scopus</td>\n",
       "      <td>2-s2.0-85105874327</td>\n",
       "    </tr>\n",
       "  </tbody>\n",
       "</table>\n",
       "<p>2 rows × 25 columns</p>\n",
       "</div>"
      ],
      "text/plain": [
       "                                             Authors  \\\n",
       "0            Pérez-Delgado C.A.; Perez-Gonzalez H.G.   \n",
       "1  Cervantes-Vazquez D.; Ochoa-Jimenez E.; Rodrig...   \n",
       "\n",
       "                                   Author full names  \\\n",
       "0  Pérez-Delgado, Carlos A. (14521565800); Perez-...   \n",
       "1  Cervantes-Vazquez, Daniel (57201742345); Ochoa...   \n",
       "\n",
       "                           Author(s) ID  \\\n",
       "0              14521565800; 25925251900   \n",
       "1  57201742345; 57194188640; 6602522316   \n",
       "\n",
       "                                               Title  Year  \\\n",
       "0       Towards a Quantum Software Modeling Language  2020   \n",
       "1  Parallel Strategies for SIDH: Toward Computing...  2022   \n",
       "\n",
       "                                        Source title  Volume  Issue  Art. No.  \\\n",
       "0  Proceedings - 2020 IEEE/ACM 42nd International...     NaN    NaN       NaN   \n",
       "1                     IEEE Transactions on Computers    71.0    6.0       NaN   \n",
       "\n",
       "   Page start  ...                                       Affiliations  \\\n",
       "0         442  ...  University of Kent, Canterbury, United Kingdom...   \n",
       "1        1249  ...  Computer Science Department, Center for Resear...   \n",
       "\n",
       "                           Authors with affiliations  \\\n",
       "0  Pérez-Delgado C.A., University of Kent, Canter...   \n",
       "1  Cervantes-Vazquez D., Computer Science Departm...   \n",
       "\n",
       "                                            Abstract  \\\n",
       "0  We set down the principles behind a modeling l...   \n",
       "1  We present novel strategies and concrete algor...   \n",
       "\n",
       "                                     Author Keywords  \\\n",
       "0       quantum computing; software engineering; UML   \n",
       "1  Isogenies; Isogeny-based cryptography; paralle...   \n",
       "\n",
       "                                      Index Keywords     Document Type  \\\n",
       "0  Software engineering; Technical presentations;...  Conference paper   \n",
       "1  Software engineering; Acceleration factors; Di...           Article   \n",
       "\n",
       "  Publication Stage                         Open Access  Source  \\\n",
       "0             Final  All Open Access; Green Open Access  Scopus   \n",
       "1             Final                                 NaN  Scopus   \n",
       "\n",
       "                  EID  \n",
       "0  2-s2.0-85093114589  \n",
       "1  2-s2.0-85105874327  \n",
       "\n",
       "[2 rows x 25 columns]"
      ]
     },
     "execution_count": 26,
     "metadata": {},
     "output_type": "execute_result"
    }
   ],
   "source": [
    "scopus_1"
   ]
  },
  {
   "cell_type": "code",
   "execution_count": 27,
   "id": "bd28cbde",
   "metadata": {},
   "outputs": [],
   "source": [
    "scopus_1 = scopus_1.filter(items=['Title', 'Authors', 'Affiliations', 'Source Title','Year'],axis=1)\n",
    "scopus_1.rename(inplace=True, columns={'Title':'title', 'Authors':'authors', 'Affiliations':'afiliations', 'Source Title':'publication','Year':'year'})"
   ]
  },
  {
   "cell_type": "code",
   "execution_count": 28,
   "id": "b480662a",
   "metadata": {},
   "outputs": [
    {
     "data": {
      "text/html": [
       "<div>\n",
       "<style scoped>\n",
       "    .dataframe tbody tr th:only-of-type {\n",
       "        vertical-align: middle;\n",
       "    }\n",
       "\n",
       "    .dataframe tbody tr th {\n",
       "        vertical-align: top;\n",
       "    }\n",
       "\n",
       "    .dataframe thead th {\n",
       "        text-align: right;\n",
       "    }\n",
       "</style>\n",
       "<table border=\"1\" class=\"dataframe\">\n",
       "  <thead>\n",
       "    <tr style=\"text-align: right;\">\n",
       "      <th></th>\n",
       "      <th>title</th>\n",
       "      <th>authors</th>\n",
       "      <th>afiliations</th>\n",
       "      <th>year</th>\n",
       "    </tr>\n",
       "  </thead>\n",
       "  <tbody>\n",
       "    <tr>\n",
       "      <th>0</th>\n",
       "      <td>Towards a Quantum Software Modeling Language</td>\n",
       "      <td>Pérez-Delgado C.A.; Perez-Gonzalez H.G.</td>\n",
       "      <td>University of Kent, Canterbury, United Kingdom...</td>\n",
       "      <td>2020</td>\n",
       "    </tr>\n",
       "    <tr>\n",
       "      <th>1</th>\n",
       "      <td>Parallel Strategies for SIDH: Toward Computing...</td>\n",
       "      <td>Cervantes-Vazquez D.; Ochoa-Jimenez E.; Rodrig...</td>\n",
       "      <td>Computer Science Department, Center for Resear...</td>\n",
       "      <td>2022</td>\n",
       "    </tr>\n",
       "  </tbody>\n",
       "</table>\n",
       "</div>"
      ],
      "text/plain": [
       "                                               title  \\\n",
       "0       Towards a Quantum Software Modeling Language   \n",
       "1  Parallel Strategies for SIDH: Toward Computing...   \n",
       "\n",
       "                                             authors  \\\n",
       "0            Pérez-Delgado C.A.; Perez-Gonzalez H.G.   \n",
       "1  Cervantes-Vazquez D.; Ochoa-Jimenez E.; Rodrig...   \n",
       "\n",
       "                                         afiliations  year  \n",
       "0  University of Kent, Canterbury, United Kingdom...  2020  \n",
       "1  Computer Science Department, Center for Resear...  2022  "
      ]
     },
     "execution_count": 28,
     "metadata": {},
     "output_type": "execute_result"
    }
   ],
   "source": [
    "scopus_1"
   ]
  },
  {
   "cell_type": "code",
   "execution_count": null,
   "id": "075b1fd1",
   "metadata": {},
   "outputs": [],
   "source": []
  }
 ],
 "metadata": {
  "kernelspec": {
   "display_name": "Python 3",
   "language": "python",
   "name": "python3"
  },
  "language_info": {
   "codemirror_mode": {
    "name": "ipython",
    "version": 3
   },
   "file_extension": ".py",
   "mimetype": "text/x-python",
   "name": "python",
   "nbconvert_exporter": "python",
   "pygments_lexer": "ipython3",
   "version": "3.8.8"
  }
 },
 "nbformat": 4,
 "nbformat_minor": 5
}
