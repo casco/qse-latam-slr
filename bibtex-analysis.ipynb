{
 "cells": [
  {
   "cell_type": "code",
   "execution_count": 2,
   "id": "67659dac",
   "metadata": {
    "ExecuteTime": {
     "end_time": "2023-11-17T22:47:41.817990700Z",
     "start_time": "2023-11-17T22:47:41.292872400Z"
    }
   },
   "outputs": [],
   "source": [
    "import os\n",
    "from bibtex_utilities import df_from_bibtex_file"
   ]
  },
  {
   "cell_type": "code",
   "execution_count": 3,
   "id": "eae2cfa82d14e616",
   "metadata": {
    "ExecuteTime": {
     "end_time": "2023-11-17T22:47:43.377708100Z",
     "start_time": "2023-11-17T22:47:43.356739600Z"
    }
   },
   "outputs": [],
   "source": [
    "# Directory containing .bib files\n",
    "folder_path = 'bibtex'\n",
    "\n",
    "# Get all .bib files in the folder\n",
    "bib_files = [os.path.join(folder_path, file_name) for file_name in os.listdir(folder_path) if file_name.endswith('.bib')]\n",
    "\n",
    "# Map it .bib file to a dataframe\n",
    "results = list(map(df_from_bibtex_file, bib_files))"
   ]
  },
  {
   "cell_type": "code",
   "execution_count": 1,
   "id": "d799581381080724",
   "metadata": {},
   "outputs": [
    {
     "name": "stdout",
     "output_type": "stream",
     "text": [
      "Collecting spacy\n",
      "  Downloading spacy-3.7.2-cp38-cp38-win_amd64.whl (12.5 MB)\n",
      "Requirement already satisfied: jinja2 in c:\\users\\casco\\anaconda3\\lib\\site-packages (from spacy) (2.11.3)\n",
      "Collecting pydantic!=1.8,!=1.8.1,<3.0.0,>=1.7.4\n",
      "  Downloading pydantic-2.5.1-py3-none-any.whl (381 kB)\n",
      "Collecting spacy-legacy<3.1.0,>=3.0.11\n",
      "  Downloading spacy_legacy-3.0.12-py2.py3-none-any.whl (29 kB)\n",
      "Collecting wasabi<1.2.0,>=0.9.1\n",
      "  Downloading wasabi-1.1.2-py3-none-any.whl (27 kB)\n",
      "Collecting smart-open<7.0.0,>=5.2.1\n",
      "  Downloading smart_open-6.4.0-py3-none-any.whl (57 kB)\n",
      "Collecting thinc<8.3.0,>=8.1.8\n",
      "  Downloading thinc-8.2.1-cp38-cp38-win_amd64.whl (1.5 MB)\n",
      "Collecting srsly<3.0.0,>=2.4.3\n",
      "  Downloading srsly-2.4.8-cp38-cp38-win_amd64.whl (483 kB)\n",
      "Collecting cymem<2.1.0,>=2.0.2\n",
      "  Downloading cymem-2.0.8-cp38-cp38-win_amd64.whl (39 kB)\n",
      "Requirement already satisfied: packaging>=20.0 in c:\\users\\casco\\anaconda3\\lib\\site-packages (from spacy) (20.9)\n",
      "Requirement already satisfied: setuptools in c:\\users\\casco\\anaconda3\\lib\\site-packages (from spacy) (52.0.0.post20210125)\n",
      "Collecting weasel<0.4.0,>=0.1.0\n",
      "  Downloading weasel-0.3.4-py3-none-any.whl (50 kB)\n",
      "Requirement already satisfied: numpy>=1.15.0 in c:\\users\\casco\\anaconda3\\lib\\site-packages (from spacy) (1.20.1)\n",
      "Collecting spacy-loggers<2.0.0,>=1.0.0\n",
      "  Downloading spacy_loggers-1.0.5-py3-none-any.whl (22 kB)\n",
      "Requirement already satisfied: requests<3.0.0,>=2.13.0 in c:\\users\\casco\\anaconda3\\lib\\site-packages (from spacy) (2.31.0)\n",
      "Collecting murmurhash<1.1.0,>=0.28.0\n",
      "  Downloading murmurhash-1.0.10-cp38-cp38-win_amd64.whl (25 kB)\n",
      "Collecting typer<0.10.0,>=0.3.0\n",
      "  Downloading typer-0.9.0-py3-none-any.whl (45 kB)\n",
      "Collecting preshed<3.1.0,>=3.0.2\n",
      "  Downloading preshed-3.0.9-cp38-cp38-win_amd64.whl (122 kB)\n",
      "Collecting langcodes<4.0.0,>=3.2.0\n",
      "  Downloading langcodes-3.3.0-py3-none-any.whl (181 kB)\n",
      "Requirement already satisfied: tqdm<5.0.0,>=4.38.0 in c:\\users\\casco\\anaconda3\\lib\\site-packages (from spacy) (4.59.0)\n",
      "Collecting catalogue<2.1.0,>=2.0.6\n",
      "  Downloading catalogue-2.0.10-py3-none-any.whl (17 kB)\n",
      "Requirement already satisfied: pyparsing>=2.0.2 in c:\\users\\casco\\anaconda3\\lib\\site-packages (from packaging>=20.0->spacy) (2.4.7)\n",
      "Collecting pydantic-core==2.14.3\n",
      "  Downloading pydantic_core-2.14.3-cp38-none-win_amd64.whl (1.9 MB)\n",
      "Collecting typing-extensions>=4.6.1\n",
      "  Using cached typing_extensions-4.8.0-py3-none-any.whl (31 kB)\n",
      "Collecting annotated-types>=0.4.0\n",
      "  Using cached annotated_types-0.6.0-py3-none-any.whl (12 kB)\n",
      "Requirement already satisfied: idna<4,>=2.5 in c:\\users\\casco\\anaconda3\\lib\\site-packages (from requests<3.0.0,>=2.13.0->spacy) (2.10)\n",
      "Requirement already satisfied: certifi>=2017.4.17 in c:\\users\\casco\\anaconda3\\lib\\site-packages (from requests<3.0.0,>=2.13.0->spacy) (2020.12.5)\n",
      "Requirement already satisfied: charset-normalizer<4,>=2 in c:\\users\\casco\\anaconda3\\lib\\site-packages (from requests<3.0.0,>=2.13.0->spacy) (3.1.0)\n",
      "Requirement already satisfied: urllib3<3,>=1.21.1 in c:\\users\\casco\\anaconda3\\lib\\site-packages (from requests<3.0.0,>=2.13.0->spacy) (1.26.4)\n",
      "Collecting confection<1.0.0,>=0.0.1\n",
      "  Downloading confection-0.1.3-py3-none-any.whl (34 kB)\n",
      "Collecting blis<0.8.0,>=0.7.8\n",
      "  Downloading blis-0.7.11-cp38-cp38-win_amd64.whl (6.6 MB)\n",
      "Requirement already satisfied: click<9.0.0,>=7.1.1 in c:\\users\\casco\\anaconda3\\lib\\site-packages (from typer<0.10.0,>=0.3.0->spacy) (7.1.2)\n",
      "Collecting colorama>=0.4.6\n",
      "  Using cached colorama-0.4.6-py2.py3-none-any.whl (25 kB)\n",
      "Collecting cloudpathlib<0.17.0,>=0.7.0\n",
      "  Downloading cloudpathlib-0.16.0-py3-none-any.whl (45 kB)\n",
      "Requirement already satisfied: MarkupSafe>=0.23 in c:\\users\\casco\\anaconda3\\lib\\site-packages (from jinja2->spacy) (1.1.1)\n",
      "Installing collected packages: typing-extensions, pydantic-core, catalogue, annotated-types, srsly, pydantic, murmurhash, cymem, colorama, wasabi, typer, smart-open, preshed, confection, cloudpathlib, blis, weasel, thinc, spacy-loggers, spacy-legacy, langcodes, spacy\n",
      "  Attempting uninstall: typing-extensions\n",
      "    Found existing installation: typing-extensions 3.7.4.3\n",
      "    Uninstalling typing-extensions-3.7.4.3:\n",
      "      Successfully uninstalled typing-extensions-3.7.4.3\n",
      "  Attempting uninstall: colorama\n",
      "    Found existing installation: colorama 0.4.4\n",
      "    Uninstalling colorama-0.4.4:\n",
      "      Successfully uninstalled colorama-0.4.4\n",
      "Successfully installed annotated-types-0.6.0 blis-0.7.11 catalogue-2.0.10 cloudpathlib-0.16.0 colorama-0.4.6 confection-0.1.3 cymem-2.0.8 langcodes-3.3.0 murmurhash-1.0.10 preshed-3.0.9 pydantic-2.5.1 pydantic-core-2.14.3 smart-open-6.4.0 spacy-3.7.2 spacy-legacy-3.0.12 spacy-loggers-1.0.5 srsly-2.4.8 thinc-8.2.1 typer-0.9.0 typing-extensions-4.8.0 wasabi-1.1.2 weasel-0.3.4\n"
     ]
    },
    {
     "name": "stderr",
     "output_type": "stream",
     "text": [
      "ERROR: pip's dependency resolver does not currently take into account all the packages that are installed. This behaviour is the source of the following dependency conflicts.\n",
      "pylint 2.7.4 requires astroid<2.7,>=2.5.2, but you have astroid 2.5 which is incompatible.\n"
     ]
    }
   ],
   "source": [
    "!pip install spacy"
   ]
  },
  {
   "cell_type": "code",
   "execution_count": 2,
   "id": "c9e772f4",
   "metadata": {},
   "outputs": [
    {
     "name": "stdout",
     "output_type": "stream",
     "text": [
      "Requirement already satisfied: SpaCy in c:\\users\\casco\\anaconda3\\lib\\site-packages (3.7.2)\n",
      "Requirement already satisfied: spacy-legacy<3.1.0,>=3.0.11 in c:\\users\\casco\\anaconda3\\lib\\site-packages (from SpaCy) (3.0.12)\n",
      "Requirement already satisfied: spacy-loggers<2.0.0,>=1.0.0 in c:\\users\\casco\\anaconda3\\lib\\site-packages (from SpaCy) (1.0.5)\n",
      "Requirement already satisfied: wasabi<1.2.0,>=0.9.1 in c:\\users\\casco\\anaconda3\\lib\\site-packages (from SpaCy) (1.1.2)\n",
      "Requirement already satisfied: cymem<2.1.0,>=2.0.2 in c:\\users\\casco\\anaconda3\\lib\\site-packages (from SpaCy) (2.0.8)\n",
      "Requirement already satisfied: weasel<0.4.0,>=0.1.0 in c:\\users\\casco\\anaconda3\\lib\\site-packages (from SpaCy) (0.3.4)\n",
      "Requirement already satisfied: requests<3.0.0,>=2.13.0 in c:\\users\\casco\\anaconda3\\lib\\site-packages (from SpaCy) (2.31.0)\n",
      "Requirement already satisfied: typer<0.10.0,>=0.3.0 in c:\\users\\casco\\anaconda3\\lib\\site-packages (from SpaCy) (0.9.0)\n",
      "Requirement already satisfied: pydantic!=1.8,!=1.8.1,<3.0.0,>=1.7.4 in c:\\users\\casco\\anaconda3\\lib\\site-packages (from SpaCy) (2.5.1)\n",
      "Requirement already satisfied: setuptools in c:\\users\\casco\\anaconda3\\lib\\site-packages (from SpaCy) (52.0.0.post20210125)\n",
      "Requirement already satisfied: packaging>=20.0 in c:\\users\\casco\\anaconda3\\lib\\site-packages (from SpaCy) (20.9)\n",
      "Requirement already satisfied: numpy>=1.15.0 in c:\\users\\casco\\anaconda3\\lib\\site-packages (from SpaCy) (1.20.1)\n",
      "Requirement already satisfied: smart-open<7.0.0,>=5.2.1 in c:\\users\\casco\\anaconda3\\lib\\site-packages (from SpaCy) (6.4.0)\n",
      "Requirement already satisfied: preshed<3.1.0,>=3.0.2 in c:\\users\\casco\\anaconda3\\lib\\site-packages (from SpaCy) (3.0.9)\n",
      "Requirement already satisfied: murmurhash<1.1.0,>=0.28.0 in c:\\users\\casco\\anaconda3\\lib\\site-packages (from SpaCy) (1.0.10)\n",
      "Requirement already satisfied: tqdm<5.0.0,>=4.38.0 in c:\\users\\casco\\anaconda3\\lib\\site-packages (from SpaCy) (4.59.0)\n",
      "Requirement already satisfied: srsly<3.0.0,>=2.4.3 in c:\\users\\casco\\anaconda3\\lib\\site-packages (from SpaCy) (2.4.8)\n",
      "Requirement already satisfied: thinc<8.3.0,>=8.1.8 in c:\\users\\casco\\anaconda3\\lib\\site-packages (from SpaCy) (8.2.1)\n",
      "Requirement already satisfied: jinja2 in c:\\users\\casco\\anaconda3\\lib\\site-packages (from SpaCy) (2.11.3)\n",
      "Requirement already satisfied: langcodes<4.0.0,>=3.2.0 in c:\\users\\casco\\anaconda3\\lib\\site-packages (from SpaCy) (3.3.0)\n",
      "Requirement already satisfied: catalogue<2.1.0,>=2.0.6 in c:\\users\\casco\\anaconda3\\lib\\site-packages (from SpaCy) (2.0.10)\n",
      "Requirement already satisfied: pyparsing>=2.0.2 in c:\\users\\casco\\anaconda3\\lib\\site-packages (from packaging>=20.0->SpaCy) (2.4.7)\n",
      "Requirement already satisfied: pydantic-core==2.14.3 in c:\\users\\casco\\anaconda3\\lib\\site-packages (from pydantic!=1.8,!=1.8.1,<3.0.0,>=1.7.4->SpaCy) (2.14.3)\n",
      "Requirement already satisfied: typing-extensions>=4.6.1 in c:\\users\\casco\\anaconda3\\lib\\site-packages (from pydantic!=1.8,!=1.8.1,<3.0.0,>=1.7.4->SpaCy) (4.8.0)\n",
      "Requirement already satisfied: annotated-types>=0.4.0 in c:\\users\\casco\\anaconda3\\lib\\site-packages (from pydantic!=1.8,!=1.8.1,<3.0.0,>=1.7.4->SpaCy) (0.6.0)\n",
      "Requirement already satisfied: certifi>=2017.4.17 in c:\\users\\casco\\anaconda3\\lib\\site-packages (from requests<3.0.0,>=2.13.0->SpaCy) (2020.12.5)\n",
      "Requirement already satisfied: charset-normalizer<4,>=2 in c:\\users\\casco\\anaconda3\\lib\\site-packages (from requests<3.0.0,>=2.13.0->SpaCy) (3.1.0)\n",
      "Requirement already satisfied: urllib3<3,>=1.21.1 in c:\\users\\casco\\anaconda3\\lib\\site-packages (from requests<3.0.0,>=2.13.0->SpaCy) (1.26.4)\n",
      "Requirement already satisfied: idna<4,>=2.5 in c:\\users\\casco\\anaconda3\\lib\\site-packages (from requests<3.0.0,>=2.13.0->SpaCy) (2.10)\n",
      "Requirement already satisfied: confection<1.0.0,>=0.0.1 in c:\\users\\casco\\anaconda3\\lib\\site-packages (from thinc<8.3.0,>=8.1.8->SpaCy) (0.1.3)\n",
      "Requirement already satisfied: blis<0.8.0,>=0.7.8 in c:\\users\\casco\\anaconda3\\lib\\site-packages (from thinc<8.3.0,>=8.1.8->SpaCy) (0.7.11)\n",
      "Requirement already satisfied: click<9.0.0,>=7.1.1 in c:\\users\\casco\\anaconda3\\lib\\site-packages (from typer<0.10.0,>=0.3.0->SpaCy) (7.1.2)\n",
      "Requirement already satisfied: colorama>=0.4.6 in c:\\users\\casco\\anaconda3\\lib\\site-packages (from wasabi<1.2.0,>=0.9.1->SpaCy) (0.4.6)\n",
      "Requirement already satisfied: cloudpathlib<0.17.0,>=0.7.0 in c:\\users\\casco\\anaconda3\\lib\\site-packages (from weasel<0.4.0,>=0.1.0->SpaCy) (0.16.0)\n",
      "Requirement already satisfied: MarkupSafe>=0.23 in c:\\users\\casco\\anaconda3\\lib\\site-packages (from jinja2->SpaCy) (1.1.1)\n"
     ]
    }
   ],
   "source": [
    "! pip install SpaCy\n"
   ]
  },
  {
   "cell_type": "code",
   "execution_count": null,
   "id": "3395266f",
   "metadata": {},
   "outputs": [],
   "source": []
  }
 ],
 "metadata": {
  "kernelspec": {
   "display_name": "Python 3",
   "language": "python",
   "name": "python3"
  },
  "language_info": {
   "codemirror_mode": {
    "name": "ipython",
    "version": 3
   },
   "file_extension": ".py",
   "mimetype": "text/x-python",
   "name": "python",
   "nbconvert_exporter": "python",
   "pygments_lexer": "ipython3",
   "version": "3.8.8"
  }
 },
 "nbformat": 4,
 "nbformat_minor": 5
}
