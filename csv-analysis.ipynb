{
 "cells": [
  {
   "cell_type": "code",
   "execution_count": 8,
   "id": "785ab817",
   "metadata": {
    "ExecuteTime": {
     "end_time": "2023-11-18T00:35:54.147645300Z",
     "start_time": "2023-11-18T00:35:54.129166300Z"
    }
   },
   "outputs": [],
   "source": [
    "import pandas as pd\n",
    "import os\n",
    "from csv_utilities import df_from_ieee_csv_file, df_from_scopus_csv_file, inject_detected_countries_to\n",
    "import matplotlib.pyplot as plt"
   ]
  },
  {
   "cell_type": "code",
   "execution_count": 9,
   "outputs": [],
   "source": [
    "# Directory containing .csv files\n",
    "folder_path = 'csv'"
   ],
   "metadata": {
    "collapsed": false,
    "ExecuteTime": {
     "end_time": "2023-11-18T00:35:54.534244700Z",
     "start_time": "2023-11-18T00:35:54.519506100Z"
    }
   },
   "id": "939d85de626b67d5"
  },
  {
   "cell_type": "code",
   "execution_count": 10,
   "outputs": [],
   "source": [
    "# Get all IEEE .csv files in the folder\n",
    "ieee_csv_files = [os.path.join(folder_path, file_name) for file_name in os.listdir(folder_path) if file_name.endswith('ieee.csv')]\n",
    "\n",
    "# Map each csv file to a dataframe with standardized column names\n",
    "ieee_dfs = list(map(df_from_ieee_csv_file, ieee_csv_files))"
   ],
   "metadata": {
    "collapsed": false,
    "ExecuteTime": {
     "end_time": "2023-11-18T00:35:54.860430600Z",
     "start_time": "2023-11-18T00:35:54.832555600Z"
    }
   },
   "id": "a7fb3b3d11be8335"
  },
  {
   "cell_type": "code",
   "execution_count": 11,
   "outputs": [],
   "source": [
    "# Get all IEEE .csv files in the folder\n",
    "scopus_csv_files = [os.path.join(folder_path, file_name) for file_name in os.listdir(folder_path) if file_name.endswith('scopus.csv')]\n",
    "\n",
    "# Map each csv file to a dataframe with standardized column names\n",
    "scopus_dfs = list(map(df_from_scopus_csv_file, scopus_csv_files))"
   ],
   "metadata": {
    "collapsed": false,
    "ExecuteTime": {
     "end_time": "2023-11-18T00:35:55.191810400Z",
     "start_time": "2023-11-18T00:35:55.160849300Z"
    }
   },
   "id": "afe37421d584142b"
  },
  {
   "cell_type": "code",
   "execution_count": 12,
   "outputs": [],
   "source": [
    "dfs = pd.concat(scopus_dfs + ieee_dfs)"
   ],
   "metadata": {
    "collapsed": false,
    "ExecuteTime": {
     "end_time": "2023-11-18T00:35:55.572917900Z",
     "start_time": "2023-11-18T00:35:55.563376500Z"
    }
   },
   "id": "1dbbb6927120248"
  },
  {
   "cell_type": "markdown",
   "source": [
    "# Publications by year"
   ],
   "metadata": {
    "collapsed": false
   },
   "id": "5a26819c7c408679"
  },
  {
   "cell_type": "code",
   "execution_count": 13,
   "outputs": [
    {
     "data": {
      "text/plain": "<Figure size 720x432 with 1 Axes>",
      "image/png": "[encoded data removed]"
     },
     "metadata": {
      "needs_background": "light"
     },
     "output_type": "display_data"
    }
   ],
   "source": [
    "plt.figure(figsize=(10, 6))  # Adjust the figure size if needed\n",
    "dfs['year'].hist(bins=20)  # Adjust the number of bins as needed\n",
    "plt.title('Frequency of Years')\n",
    "plt.xlabel('Year')\n",
    "plt.ylabel('Frequency')\n",
    "plt.grid(False)\n",
    "plt.show()"
   ],
   "metadata": {
    "collapsed": false,
    "ExecuteTime": {
     "end_time": "2023-11-18T00:35:56.874549700Z",
     "start_time": "2023-11-18T00:35:56.728777300Z"
    }
   },
   "id": "cc24f429de91021b"
  },
  {
   "cell_type": "code",
   "execution_count": 14,
   "outputs": [],
   "source": [
    "inject_detected_countries_to(dfs)"
   ],
   "metadata": {
    "collapsed": false,
    "ExecuteTime": {
     "end_time": "2023-11-18T00:35:57.517189100Z",
     "start_time": "2023-11-18T00:35:57.502262Z"
    }
   },
   "id": "412db53e511139d2"
  },
  {
   "cell_type": "code",
   "execution_count": 7,
   "outputs": [],
   "source": [],
   "metadata": {
    "collapsed": false,
    "ExecuteTime": {
     "end_time": "2023-11-18T00:35:50.865017400Z",
     "start_time": "2023-11-18T00:35:50.849237100Z"
    }
   },
   "id": "871c044fd5840f6d"
  },
  {
   "cell_type": "code",
   "execution_count": null,
   "outputs": [],
   "source": [],
   "metadata": {
    "collapsed": false
   },
   "id": "4ad5555cfe6f16db"
  }
 ],
 "metadata": {
  "kernelspec": {
   "display_name": "Python 3",
   "language": "python",
   "name": "python3"
  },
  "language_info": {
   "codemirror_mode": {
    "name": "ipython",
    "version": 3
   },
   "file_extension": ".py",
   "mimetype": "text/x-python",
   "name": "python",
   "nbconvert_exporter": "python",
   "pygments_lexer": "ipython3",
   "version": "3.8.8"
  }
 },
 "nbformat": 4,
 "nbformat_minor": 5
}
