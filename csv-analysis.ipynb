{
 "cells": [
  {
   "cell_type": "code",
   "execution_count": 2,
   "id": "785ab817",
   "metadata": {
    "ExecuteTime": {
     "end_time": "2023-11-18T11:22:46.642887Z",
     "start_time": "2023-11-18T11:22:46.638886Z"
    }
   },
   "outputs": [],
   "source": [
    "import pandas as pd\n",
    "import os\n",
    "from csv_utilities import df_from_ieee_csv_file, df_from_scopus_csv_file, inject_detected_countries_to, mark_duplicates_in\n",
    "import matplotlib.pyplot as plt\n",
    "from collections import Counter"
   ]
  },
  {
   "cell_type": "code",
   "execution_count": 3,
   "outputs": [],
   "source": [
    "# Directory containing .csv files\n",
    "folder_path = 'csv'"
   ],
   "metadata": {
    "collapsed": false,
    "ExecuteTime": {
     "end_time": "2023-11-18T11:22:47.077536900Z",
     "start_time": "2023-11-18T11:22:47.067244700Z"
    }
   },
   "id": "939d85de626b67d5"
  },
  {
   "cell_type": "code",
   "execution_count": 4,
   "outputs": [],
   "source": [
    "# Get all IEEE .csv files in the folder\n",
    "ieee_csv_files = [os.path.join(folder_path, file_name) for file_name in os.listdir(folder_path) if file_name.endswith('ieee.csv')]\n",
    "\n",
    "# Map each csv file to a dataframe with standardized column names\n",
    "ieee_dfs = list(map(df_from_ieee_csv_file, ieee_csv_files))"
   ],
   "metadata": {
    "collapsed": false,
    "ExecuteTime": {
     "end_time": "2023-11-18T11:22:47.477938400Z",
     "start_time": "2023-11-18T11:22:47.458953Z"
    }
   },
   "id": "a7fb3b3d11be8335"
  },
  {
   "cell_type": "code",
   "execution_count": 5,
   "outputs": [],
   "source": [
    "# Get all IEEE .csv files in the folder\n",
    "scopus_csv_files = [os.path.join(folder_path, file_name) for file_name in os.listdir(folder_path) if file_name.endswith('scopus.csv')]\n",
    "\n",
    "# Map each csv file to a dataframe with standardized column names\n",
    "scopus_dfs = list(map(df_from_scopus_csv_file, scopus_csv_files))"
   ],
   "metadata": {
    "collapsed": false,
    "ExecuteTime": {
     "end_time": "2023-11-18T11:22:48.625934700Z",
     "start_time": "2023-11-18T11:22:48.592541500Z"
    }
   },
   "id": "afe37421d584142b"
  },
  {
   "cell_type": "code",
   "execution_count": 6,
   "outputs": [],
   "source": [
    "dfs = pd.concat(scopus_dfs + ieee_dfs)\n",
    "dfs = dfs.reset_index(drop=True)"
   ],
   "metadata": {
    "collapsed": false,
    "ExecuteTime": {
     "end_time": "2023-11-18T11:22:52.175802300Z",
     "start_time": "2023-11-18T11:22:52.167326600Z"
    }
   },
   "id": "1dbbb6927120248"
  },
  {
   "cell_type": "code",
   "execution_count": 8,
   "outputs": [],
   "source": [
    "mark_duplicates_in(dfs)\n",
    "dfs = dfs.drop_duplicates(subset='title_canonical', keep='first')\n",
    "dfs = dfs.reset_index(drop=True)"
   ],
   "metadata": {
    "collapsed": false,
    "ExecuteTime": {
     "end_time": "2023-11-18T11:23:05.616321100Z",
     "start_time": "2023-11-18T11:23:05.592467200Z"
    }
   },
   "id": "b594433579e285ff"
  },
  {
   "cell_type": "markdown",
   "source": [
    "# Publications by year"
   ],
   "metadata": {
    "collapsed": false
   },
   "id": "5a26819c7c408679"
  },
  {
   "cell_type": "code",
   "execution_count": 13,
   "outputs": [
    {
     "data": {
      "text/plain": "<Figure size 720x432 with 1 Axes>",
      "image/png": "[encoded data removed]"
     },
     "metadata": {
      "needs_background": "light"
     },
     "output_type": "display_data"
    }
   ],
   "source": [
    "plt.figure(figsize=(10, 6))  # Adjust the figure size if needed\n",
    "dfs['year'].hist(bins=20)  # Adjust the number of bins as needed\n",
    "plt.title('Frequency of Years')\n",
    "plt.xlabel('Year')\n",
    "plt.ylabel('Frequency')\n",
    "plt.grid(False)\n",
    "plt.show()"
   ],
   "metadata": {
    "collapsed": false,
    "ExecuteTime": {
     "end_time": "2023-11-18T00:35:56.874549700Z",
     "start_time": "2023-11-18T00:35:56.728777300Z"
    }
   },
   "id": "cc24f429de91021b"
  },
  {
   "cell_type": "code",
   "execution_count": 14,
   "outputs": [],
   "source": [
    "inject_detected_countries_to(dfs)"
   ],
   "metadata": {
    "collapsed": false,
    "ExecuteTime": {
     "end_time": "2023-11-18T00:35:57.517189100Z",
     "start_time": "2023-11-18T00:35:57.502262Z"
    }
   },
   "id": "412db53e511139d2"
  },
  {
   "cell_type": "markdown",
   "source": [
    "# Publications by country "
   ],
   "metadata": {
    "collapsed": false
   },
   "id": "2ea873c36599e2ae"
  },
  {
   "cell_type": "code",
   "execution_count": 17,
   "outputs": [
    {
     "data": {
      "text/plain": "<Figure size 720x432 with 1 Axes>",
      "image/png": "[encoded data removed]"
     },
     "metadata": {
      "needs_background": "light"
     },
     "output_type": "display_data"
    }
   ],
   "source": [
    "# Flatten the 'countries' column to get a single list of countries\n",
    "all_countries = [country for sublist in dfs['countries'] for country in sublist]\n",
    "\n",
    "# Count the frequency of each country\n",
    "country_counts = dict(Counter(all_countries))\n",
    "\n",
    "# Plotting the frequency of countries\n",
    "plt.figure(figsize=(10, 6))\n",
    "plt.bar(country_counts.keys(), country_counts.values())\n",
    "plt.title('Frequency of Countries')\n",
    "plt.xlabel('Countries')\n",
    "plt.ylabel('Frequency')\n",
    "plt.xticks(rotation=45)  # Rotate x-axis labels for better readability if needed\n",
    "plt.show()"
   ],
   "metadata": {
    "collapsed": false,
    "ExecuteTime": {
     "end_time": "2023-11-18T00:39:47.362577Z",
     "start_time": "2023-11-18T00:39:47.252572700Z"
    }
   },
   "id": "871c044fd5840f6d"
  },
  {
   "cell_type": "code",
   "execution_count": null,
   "outputs": [],
   "source": [],
   "metadata": {
    "collapsed": false
   },
   "id": "4ad5555cfe6f16db"
  }
 ],
 "metadata": {
  "kernelspec": {
   "display_name": "Python 3",
   "language": "python",
   "name": "python3"
  },
  "language_info": {
   "codemirror_mode": {
    "name": "ipython",
    "version": 3
   },
   "file_extension": ".py",
   "mimetype": "text/x-python",
   "name": "python",
   "nbconvert_exporter": "python",
   "pygments_lexer": "ipython3",
   "version": "3.8.8"
  }
 },
 "nbformat": 4,
 "nbformat_minor": 5
}
